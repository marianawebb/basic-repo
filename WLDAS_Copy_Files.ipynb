{
  "cells": [
    {
      "cell_type": "markdown",
      "metadata": {
        "id": "view-in-github",
        "colab_type": "text"
      },
      "source": [
        "<a href=\"https://colab.research.google.com/github/marianawebb/basic-repo/blob/main/WLDAS_Copy_Files.ipynb\" target=\"_parent\"><img src=\"https://colab.research.google.com/assets/colab-badge.svg\" alt=\"Open In Colab\"/></a>"
      ]
    },
    {
      "cell_type": "markdown",
      "metadata": {
        "id": "DFO0G-5ZyykQ"
      },
      "source": [
        "copy files from one directory to another"
      ]
    },
    {
      "cell_type": "code",
      "execution_count": 1,
      "metadata": {
        "id": "016-Eq0gzF2h"
      },
      "outputs": [],
      "source": [
        "import shutil\n",
        "import os\n",
        "import glob\n",
        "\n",
        "from google.colab import drive\n",
        "drive.mount('/content/drive')\n",
        "\n",
        "os.chdir('/content/drive/My Drive/Dissertation/Data/')\n",
        "os.getcwd()"
      ]
    },
    {
      "cell_type": "code",
      "execution_count": 9,
      "metadata": {
        "colab": {
          "base_uri": "https://localhost:8080/",
          "height": 53
        },
        "id": "_Vu1_QpCJIA5",
        "outputId": "7968ae1a-ea9a-4f42-b611-8e5c6bff1154"
      },
      "outputs": [
        {
          "output_type": "stream",
          "name": "stdout",
          "text": [
            "362\n"
          ]
        },
        {
          "output_type": "execute_result",
          "data": {
            "text/plain": [
              "'WLDAS_ProcessedUNR/WLDAS_198501.csv'"
            ],
            "application/vnd.google.colaboratory.intrinsic+json": {
              "type": "string"
            }
          },
          "metadata": {},
          "execution_count": 9
        }
      ],
      "source": [
        "copy_list = glob.glob('WLDAS_ProcessedUNR/*.csv')\n",
        "print(len(copy_list))\n",
        "copy_list[0]"
      ]
    },
    {
      "cell_type": "code",
      "execution_count": 7,
      "metadata": {
        "colab": {
          "base_uri": "https://localhost:8080/"
        },
        "id": "f2bvgCd5yCTU",
        "outputId": "45a4a497-c7e9-44df-b8d5-3ff34fd6326f"
      },
      "outputs": [
        {
          "output_type": "stream",
          "name": "stdout",
          "text": [
            "WLDAS_ProcessedUNR/WLDAS_200302.csv\n",
            "deleting...\n",
            "WLDAS_ProcessedUNR/WLDAS_200303.csv\n",
            "deleting...\n",
            "WLDAS_ProcessedUNR/WLDAS_200304.csv\n",
            "deleting...\n",
            "WLDAS_ProcessedUNR/WLDAS_200305.csv\n",
            "deleting...\n",
            "WLDAS_ProcessedUNR/WLDAS_200306.csv\n",
            "deleting...\n",
            "WLDAS_ProcessedUNR/WLDAS_200307.csv\n",
            "deleting...\n",
            "WLDAS_ProcessedUNR/WLDAS_200308.csv\n",
            "deleting...\n",
            "WLDAS_ProcessedUNR/WLDAS_TEST_200608.csv\n",
            "deleting...\n",
            "WLDAS_ProcessedUNR/WLDAS_TEST_201005.csv\n",
            "deleting...\n",
            "finished copying files over to WLDAS_Full google drive using UNR credentials\n"
          ]
        }
      ],
      "source": [
        "out_folder = 'WLDAS_ProcessedUNR/'\n",
        "\n",
        "\n",
        "for i in copy_list[0:]:\n",
        "  # print(i)\n",
        "  filename = i[16:]\n",
        "  # print(filename)\n",
        "  yr = filename[-10:-6]\n",
        "  # print(yr)\n",
        "\n",
        "  out_file = os.path.join(out_folder,filename)\n",
        "  print(out_file)\n",
        "  t = shutil.copy(i, out_file)\n",
        "  if os.path.getsize(t) > 1:\n",
        "    print(\"deleting...\")\n",
        "    os.remove(i)\n",
        "\n",
        "print('finished copying files over to WLDAS_Full google drive using UNR credentials')"
      ]
    }
  ],
  "metadata": {
    "colab": {
      "collapsed_sections": [],
      "name": "WLDAS_Copy_Files.ipynb",
      "provenance": [],
      "include_colab_link": true
    },
    "kernelspec": {
      "display_name": "Python 3",
      "name": "python3"
    },
    "language_info": {
      "name": "python"
    }
  },
  "nbformat": 4,
  "nbformat_minor": 0
}